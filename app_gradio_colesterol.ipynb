{
 "cells": [
  {
   "cell_type": "code",
   "execution_count": 3,
   "metadata": {},
   "outputs": [],
   "source": [
    "import gradio as gr\n",
    "import joblib\n",
    "import pandas as pd"
   ]
  },
  {
   "cell_type": "code",
   "execution_count": 4,
   "metadata": {},
   "outputs": [],
   "source": [
    "modelo = joblib.load('./modelo_colesterol.pkl')"
   ]
  },
  {
   "cell_type": "code",
   "execution_count": 32,
   "metadata": {},
   "outputs": [],
   "source": [
    "def predict(grupo_sanguineo, fumante, nivel_atividade_fisica, idade, peso, altura):\n",
    "    # Cria um DataFrame com os dados de entrada\n",
    "    dados = pd.DataFrame({\n",
    "        'grupo_sanguineo': [grupo_sanguineo],\n",
    "        'fumante': [fumante],\n",
    "        'nivel_atividade_fisica': [nivel_atividade_fisica],\n",
    "        'idade': [idade],\n",
    "        'peso': [peso],\n",
    "        'altura': [altura]\n",
    "    })\n",
    "    \n",
    "    try:\n",
    "        # Faz a previsão\n",
    "        resultado = modelo.predict(dados)\n",
    "        return resultado[0]\n",
    "    except ValueError as e:\n",
    "        return f\"Erro na previsão: {str(e)}\""
   ]
  },
  {
   "cell_type": "code",
   "execution_count": 34,
   "metadata": {},
   "outputs": [
    {
     "name": "stdout",
     "output_type": "stream",
     "text": [
      "* Running on local URL:  http://127.0.0.1:7869\n",
      "* Running on public URL: https://2a01bdba3d044753bc.gradio.live\n",
      "\n",
      "This share link expires in 1 week. For free permanent hosting and GPU upgrades, run `gradio deploy` from the terminal in the working directory to deploy to Hugging Face Spaces (https://huggingface.co/spaces)\n"
     ]
    },
    {
     "data": {
      "text/html": [
       "<div><iframe src=\"https://2a01bdba3d044753bc.gradio.live\" width=\"100%\" height=\"500\" allow=\"autoplay; camera; microphone; clipboard-read; clipboard-write;\" frameborder=\"0\" allowfullscreen></iframe></div>"
      ],
      "text/plain": [
       "<IPython.core.display.HTML object>"
      ]
     },
     "metadata": {},
     "output_type": "display_data"
    },
    {
     "data": {
      "text/plain": []
     },
     "execution_count": 34,
     "metadata": {},
     "output_type": "execute_result"
    }
   ],
   "source": [
    "demo = gr.Interface(\n",
    "    fn=predict,\n",
    "    inputs=[\n",
    "        gr.Dropdown(['A', 'B', 'AB', 'O'], label='Grupo Sanguíneo'),\n",
    "        gr.Checkbox(label='Fumante'),\n",
    "        gr.Radio(['Baixo', 'Médio', 'Alto'], label='Nível de Atividade Física'),\n",
    "        gr.Number(label='Idade (anos)'),\n",
    "        gr.Number(label='Peso (kg)'),\n",
    "        gr.Number(label='Altura (cm)')\n",
    "    ],\n",
    "    outputs=gr.Textbox(label='Resultado da Previsão'),\n",
    "    title=\"Previsão de Colesterol\",\n",
    "    description=\"Insira os dados para prever o nível de colesterol.\"\n",
    ")\n",
    "demo.launch(share=True)"
   ]
  },
  {
   "cell_type": "code",
   "execution_count": null,
   "metadata": {
    "vscode": {
     "languageId": "ruby"
    }
   },
   "outputs": [],
   "source": [
    "Erro na previsão: Found unknown categories [2.77] in column 0 during transform\n",
    "# Certifique-se de que os dados de entrada estão no formato correto\n",
    "# e que os valores categóricos estão dentro das categorias esperadas pelo modelo.\n",
    "print(\"Verifique os dados de entrada para garantir que estão corretos e dentro das categorias esperadas.\")"
   ]
  },
  {
   "cell_type": "code",
   "execution_count": null,
   "metadata": {},
   "outputs": [],
   "source": [
    "def predict(grupo_sanguineo, fumante, nivel_atividade_fisica, idade, peso, altura):\n",
    "    # Cria um DataFrame com os dados de entrada\n",
    "    dados = pd.DataFrame({\n",
    "        'grupo_sanguineo': [grupo_sanguineo],\n",
    "        'fumante': [fumante],\n",
    "        'nivel_atividade_fisica': [nivel_atividade_fisica],\n",
    "        'idade': [idade],\n",
    "        'peso': [peso],\n",
    "        'altura': [altura]\n",
    "    })\n",
    "    \n",
    "    try:\n",
    "        # Faz a previsão\n",
    "        resultado = modelo.predict(dados)\n",
    "        return resultado[0]\n",
    "    except ValueError as e:\n",
    "        return f\"Erro na previsão: {str(e)}\""
   ]
  },
  {
   "cell_type": "code",
   "execution_count": null,
   "metadata": {
    "vscode": {
     "languageId": "r"
    }
   },
   "outputs": [],
   "source": [
    "demo = gr.Interface(\n",
    "    fn=predict,\n",
    "    inputs=[\n",
    "        gr.Dropdown(['A', 'B', 'AB', 'O'], label='Grupo Sanguíneo'),\n",
    "        gr.Checkbox(label='Fumante'),\n",
    "        gr.Slider(minimum=1, maximum=10, label='Nível de Atividade Física (1 a 10)'),\n",
    "        gr.Number(label='Idade (anos)'),\n",
    "        gr.Number(label='Peso (kg)'),\n",
    "        gr.Number(label='Altura (cm)')\n",
    "    ],\n",
    "    outputs=gr.Textbox(label='Resultado da Previsão'),\n",
    "    title=\"Previsão de Colesterol\",\n",
    "    description=\"Insira os dados para prever o nível de colesterol.\"\n",
    ")\n",
    "demo.launch(share=True)"
   ]
  }
 ],
 "metadata": {
  "kernelspec": {
   "display_name": "regressao_linear_multipla-8CjnFvbG",
   "language": "python",
   "name": "python3"
  },
  "language_info": {
   "codemirror_mode": {
    "name": "ipython",
    "version": 3
   },
   "file_extension": ".py",
   "mimetype": "text/x-python",
   "name": "python",
   "nbconvert_exporter": "python",
   "pygments_lexer": "ipython3",
   "version": "3.12.3"
  }
 },
 "nbformat": 4,
 "nbformat_minor": 2
}
